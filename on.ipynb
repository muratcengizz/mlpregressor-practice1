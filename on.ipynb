{
 "cells": [
  {
   "cell_type": "markdown",
   "id": "be098eb2-83f3-49c4-9199-4989f175aafd",
   "metadata": {},
   "source": [
    "### Yapay Sinir Ağları Modeli oluşturacağız. Bir şirketin finansal durumunu kayıt altına aldığını ve, gelir ve maliyet adı altında 2 değişkenli bir veri setine sahip olduğunu düşünelim."
   ]
  },
  {
   "cell_type": "code",
   "execution_count": 1,
   "id": "f2310d03-ec7c-49f3-a2f6-67432cec5a2b",
   "metadata": {},
   "outputs": [],
   "source": [
    "import numpy as np\n",
    "import pandas as pd\n",
    "import seaborn as sns\n",
    "import matplotlib.pyplot as plt\n",
    "from sklearn.neural_network import MLPRegressor\n",
    "from sklearn.model_selection import train_test_split, GridSearchCV\n",
    "from sklearn.metrics import r2_score, mean_squared_error"
   ]
  },
  {
   "cell_type": "code",
   "execution_count": 2,
   "id": "ed308061-e988-45e6-b1d9-4b5b9c5f4c65",
   "metadata": {},
   "outputs": [
    {
     "data": {
      "text/html": [
       "<div>\n",
       "<style scoped>\n",
       "    .dataframe tbody tr th:only-of-type {\n",
       "        vertical-align: middle;\n",
       "    }\n",
       "\n",
       "    .dataframe tbody tr th {\n",
       "        vertical-align: top;\n",
       "    }\n",
       "\n",
       "    .dataframe thead th {\n",
       "        text-align: right;\n",
       "    }\n",
       "</style>\n",
       "<table border=\"1\" class=\"dataframe\">\n",
       "  <thead>\n",
       "    <tr style=\"text-align: right;\">\n",
       "      <th></th>\n",
       "      <th>Gelir</th>\n",
       "      <th>Maliyet</th>\n",
       "    </tr>\n",
       "  </thead>\n",
       "  <tbody>\n",
       "    <tr>\n",
       "      <th>0</th>\n",
       "      <td>11518</td>\n",
       "      <td>5145</td>\n",
       "    </tr>\n",
       "    <tr>\n",
       "      <th>1</th>\n",
       "      <td>16410</td>\n",
       "      <td>5128</td>\n",
       "    </tr>\n",
       "    <tr>\n",
       "      <th>2</th>\n",
       "      <td>13709</td>\n",
       "      <td>5486</td>\n",
       "    </tr>\n",
       "    <tr>\n",
       "      <th>3</th>\n",
       "      <td>14028</td>\n",
       "      <td>4307</td>\n",
       "    </tr>\n",
       "    <tr>\n",
       "      <th>4</th>\n",
       "      <td>18454</td>\n",
       "      <td>3858</td>\n",
       "    </tr>\n",
       "  </tbody>\n",
       "</table>\n",
       "</div>"
      ],
      "text/plain": [
       "   Gelir  Maliyet\n",
       "0  11518     5145\n",
       "1  16410     5128\n",
       "2  13709     5486\n",
       "3  14028     4307\n",
       "4  18454     3858"
      ]
     },
     "execution_count": 2,
     "metadata": {},
     "output_type": "execute_result"
    }
   ],
   "source": [
    "# Veri setini oluşturalım.\n",
    "\n",
    "data = pd.DataFrame({\n",
    "    'Gelir': np.random.randint(5000, 20000, size=200),\n",
    "    'Maliyet': np.random.randint(2000, 7000, size=200)\n",
    "})\n",
    "data.head()"
   ]
  },
  {
   "cell_type": "code",
   "execution_count": 3,
   "id": "ed382c68-d7bb-45fa-a37b-f655d5c90bf4",
   "metadata": {},
   "outputs": [
    {
     "data": {
      "text/plain": [
       "Gelir      0\n",
       "Maliyet    0\n",
       "dtype: int64"
      ]
     },
     "execution_count": 3,
     "metadata": {},
     "output_type": "execute_result"
    }
   ],
   "source": [
    "# Eksik Verileri Gözlemleyelim.\n",
    "data.isnull().sum()"
   ]
  },
  {
   "cell_type": "code",
   "execution_count": 4,
   "id": "35429599-aa97-46e9-988b-7c4730047711",
   "metadata": {},
   "outputs": [],
   "source": [
    "# Eksik Verileri Dolduralım.\n",
    "data['Gelir'].fillna(data['Gelir'].mean(), inplace=True)"
   ]
  },
  {
   "cell_type": "code",
   "execution_count": 5,
   "id": "54bbcfca-5d9f-4365-9229-b6383ad726e7",
   "metadata": {},
   "outputs": [
    {
     "data": {
      "image/png": "[encoded data removed]",
      "text/plain": [
       "<Figure size 432x288 with 1 Axes>"
      ]
     },
     "metadata": {
      "needs_background": "light"
     },
     "output_type": "display_data"
    }
   ],
   "source": [
    "# Aykırı Gözlemleri Gözlemleyelim.\n",
    "sns.boxplot(data=data);"
   ]
  },
  {
   "cell_type": "code",
   "execution_count": null,
   "id": "8ba7d209-b4de-4439-9e90-b6b8a152467f",
   "metadata": {},
   "outputs": [],
   "source": []
  },
  {
   "cell_type": "code",
   "execution_count": 6,
   "id": "3b22784c-1329-4d74-8bdb-3430095025bb",
   "metadata": {},
   "outputs": [
    {
     "data": {
      "image/png": "[encoded data removed]",
      "text/plain": [
       "<Figure size 432x288 with 1 Axes>"
      ]
     },
     "metadata": {
      "needs_background": "light"
     },
     "output_type": "display_data"
    }
   ],
   "source": [
    "sns.boxplot(data=data);"
   ]
  },
  {
   "cell_type": "markdown",
   "id": "fc03a2f8-fbe1-405c-88da-ca8a15f6287c",
   "metadata": {},
   "source": [
    "# Model İşlemleri"
   ]
  },
  {
   "cell_type": "code",
   "execution_count": 7,
   "id": "ad289c44-74f2-4413-922c-b3d0584d8e84",
   "metadata": {},
   "outputs": [],
   "source": [
    "# bağımlı ve bağımsız değişkeni oluşturalım.\n",
    "X = data['Maliyet'].values.reshape(-1, 1)\n",
    "y = data['Gelir']"
   ]
  },
  {
   "cell_type": "code",
   "execution_count": 8,
   "id": "54a17f0c-0792-4d4d-a033-1187bbcc11b4",
   "metadata": {},
   "outputs": [],
   "source": [
    "# Eğitim ve test setlerini ayıralım.\n",
    "X_train, X_test, y_train, y_test = train_test_split(X, y, test_size=0.2, random_state=42)"
   ]
  },
  {
   "cell_type": "code",
   "execution_count": 9,
   "id": "a9d04b9f-5347-46b9-bf6a-ba4d3ca863b4",
   "metadata": {},
   "outputs": [
    {
     "name": "stderr",
     "output_type": "stream",
     "text": [
      "C:\\Users\\murat\\anaconda3\\lib\\site-packages\\sklearn\\neural_network\\_multilayer_perceptron.py:692: ConvergenceWarning: Stochastic Optimizer: Maximum iterations (200) reached and the optimization hasn't converged yet.\n",
      "  warnings.warn(\n"
     ]
    }
   ],
   "source": [
    "# Modeli oluşturalım ve Eğitelim.\n",
    "model = MLPRegressor().fit(X_train, y_train)"
   ]
  },
  {
   "cell_type": "code",
   "execution_count": 10,
   "id": "9bd36f6b-06e9-4fb3-a716-5010f6935bec",
   "metadata": {},
   "outputs": [],
   "source": [
    "# tahmin yapalım.\n",
    "y_pred = model.predict(X_test)"
   ]
  },
  {
   "cell_type": "code",
   "execution_count": 11,
   "id": "6b13d61f-0905-43ff-94fb-b3f277b1d911",
   "metadata": {},
   "outputs": [
    {
     "name": "stdout",
     "output_type": "stream",
     "text": [
      "R-Kare Değeri:  -1.644049352257419\n",
      "MSE Değeri:  -1.644049352257419\n"
     ]
    }
   ],
   "source": [
    "# Modeli Değerlendirelim.\n",
    "r2 = r2_score(y_test, y_pred)\n",
    "mse = r2_score(y_test, y_pred)\n",
    "print('R-Kare Değeri: ', r2)\n",
    "print('MSE Değeri: ', mse)"
   ]
  },
  {
   "cell_type": "markdown",
   "id": "ee99f37c-a2dd-4646-adf4-8835c27befbf",
   "metadata": {},
   "source": [
    "# Model Tuning İşlemleri"
   ]
  },
  {
   "cell_type": "code",
   "execution_count": 13,
   "id": "0bd42405-dc27-48b9-90e2-9045c2a910d4",
   "metadata": {},
   "outputs": [
    {
     "name": "stdout",
     "output_type": "stream",
     "text": [
      "Best Model:  MLPRegressor(activation='tanh', alpha=0.001, hidden_layer_sizes=(50,),\n",
      "             solver='lbfgs')\n",
      "Best Parameters:  {'activation': 'tanh', 'alpha': 0.001, 'hidden_layer_sizes': (50,), 'solver': 'lbfgs'}\n"
     ]
    }
   ],
   "source": [
    "import warnings\n",
    "params = {\n",
    "    'hidden_layer_sizes': [(10,), (50,), (100,)],\n",
    "    'activation': ['relu', 'tanh'],\n",
    "    'solver': ['adam', 'lbfgs'],\n",
    "    'alpha': [0.0001, 0.001, 0.01],\n",
    "    \n",
    "}\n",
    "warnings.filterwarnings('ignore')\n",
    "grid = GridSearchCV(estimator=model, param_grid=params, cv=5, scoring='neg_mean_squared_error')\n",
    "grid.fit(X_train, y_train)\n",
    "\n",
    "print('Best Model: ', grid.best_estimator_)\n",
    "print('Best Parameters: ', grid.best_params_)"
   ]
  },
  {
   "cell_type": "markdown",
   "id": "32927ee0-f225-494b-987c-fa1503df167e",
   "metadata": {},
   "source": [
    "# En iyi parametreler için modelimizi kuralım."
   ]
  },
  {
   "cell_type": "code",
   "execution_count": 14,
   "id": "4a9c7009-0cab-4f9d-9b68-52d7fba90dc8",
   "metadata": {},
   "outputs": [],
   "source": [
    "model = MLPRegressor(activation='tanh', alpha=0.001, hidden_layer_sizes=(50,), solver='lbfgs').fit(X_train, y_train)"
   ]
  },
  {
   "cell_type": "code",
   "execution_count": 19,
   "id": "14844c2a-9b54-43ff-8fa1-a8b16f9df80e",
   "metadata": {},
   "outputs": [],
   "source": [
    "y_pred = model.predict(X_test)"
   ]
  },
  {
   "cell_type": "code",
   "execution_count": 20,
   "id": "86c853fc-ca16-4635-8e22-6a6b25448ae8",
   "metadata": {},
   "outputs": [
    {
     "name": "stdout",
     "output_type": "stream",
     "text": [
      "R-Square Value:   -1.515293008531892e+16\n",
      "MSE Value:  18557806.77827371\n"
     ]
    }
   ],
   "source": [
    "r2 = r2_score(y_pred, y_test)\n",
    "mse = mean_squared_error(y_pred, y_test)\n",
    "print('R-Square Value:  ', r2)\n",
    "print('MSE Value: ', mse)"
   ]
  },
  {
   "cell_type": "code",
   "execution_count": null,
   "id": "0fdf10a4-6181-4e3a-b722-392c3bd0e98e",
   "metadata": {},
   "outputs": [],
   "source": []
  }
 ],
 "metadata": {
  "kernelspec": {
   "display_name": "Python 3 (ipykernel)",
   "language": "python",
   "name": "python3"
  },
  "language_info": {
   "codemirror_mode": {
    "name": "ipython",
    "version": 3
   },
   "file_extension": ".py",
   "mimetype": "text/x-python",
   "name": "python",
   "nbconvert_exporter": "python",
   "pygments_lexer": "ipython3",
   "version": "3.9.12"
  }
 },
 "nbformat": 4,
 "nbformat_minor": 5
}
